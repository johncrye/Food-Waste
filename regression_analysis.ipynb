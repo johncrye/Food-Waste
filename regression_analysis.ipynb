{
 "cells": [
  {
   "cell_type": "code",
   "execution_count": 1,
   "metadata": {},
   "outputs": [],
   "source": [
    "import pandas as pd\n",
    "import statsmodels.api as sm\n",
    "import matplotlib.pyplot as plt\n",
    "import numpy as np\n",
    "from scipy import stats\n",
    "import math\n",
    "import seaborn as sns\n",
    "\n",
    "household_df = pd.read_excel(\"UN Food Waste Index Source and Worksheet.xlsx\", sheet_name=\"Household Estimates\")\n",
    "\n",
    "food_service_df = pd.read_excel(\"UN Food Waste Index Source and Worksheet.xlsx\", sheet_name=\"Food Service Estimates\")\n",
    "\n",
    "retail_df = pd.read_excel(\"UN Food Waste Index Source and Worksheet.xlsx\", sheet_name=\"Retail Estimates\")"
   ]
  },
  {
   "cell_type": "code",
   "execution_count": 2,
   "metadata": {},
   "outputs": [
    {
     "data": {
      "text/html": [
       "<div>\n",
       "<style scoped>\n",
       "    .dataframe tbody tr th:only-of-type {\n",
       "        vertical-align: middle;\n",
       "    }\n",
       "\n",
       "    .dataframe tbody tr th {\n",
       "        vertical-align: top;\n",
       "    }\n",
       "\n",
       "    .dataframe thead th {\n",
       "        text-align: right;\n",
       "    }\n",
       "</style>\n",
       "<table border=\"1\" class=\"dataframe\">\n",
       "  <thead>\n",
       "    <tr style=\"text-align: right;\">\n",
       "      <th></th>\n",
       "      <th>GDP Per Capita (2015 Constant)</th>\n",
       "      <th>Household estimate (kg/capita/year)</th>\n",
       "    </tr>\n",
       "  </thead>\n",
       "  <tbody>\n",
       "    <tr>\n",
       "      <th>0</th>\n",
       "      <td>2396.036623</td>\n",
       "      <td>188.797725</td>\n",
       "    </tr>\n",
       "    <tr>\n",
       "      <th>1</th>\n",
       "      <td>834.396661</td>\n",
       "      <td>164.362500</td>\n",
       "    </tr>\n",
       "    <tr>\n",
       "      <th>2</th>\n",
       "      <td>17323.866162</td>\n",
       "      <td>141.690544</td>\n",
       "    </tr>\n",
       "    <tr>\n",
       "      <th>3</th>\n",
       "      <td>19545.578561</td>\n",
       "      <td>131.709160</td>\n",
       "    </tr>\n",
       "    <tr>\n",
       "      <th>4</th>\n",
       "      <td>25427.081778</td>\n",
       "      <td>129.000000</td>\n",
       "    </tr>\n",
       "    <tr>\n",
       "      <th>...</th>\n",
       "      <td>...</td>\n",
       "      <td>...</td>\n",
       "    </tr>\n",
       "    <tr>\n",
       "      <th>210</th>\n",
       "      <td>40424.658494</td>\n",
       "      <td>49.919512</td>\n",
       "    </tr>\n",
       "    <tr>\n",
       "      <th>211</th>\n",
       "      <td>5659.204410</td>\n",
       "      <td>39.776225</td>\n",
       "    </tr>\n",
       "    <tr>\n",
       "      <th>212</th>\n",
       "      <td>43346.405194</td>\n",
       "      <td>39.000000</td>\n",
       "    </tr>\n",
       "    <tr>\n",
       "      <th>213</th>\n",
       "      <td>22899.360703</td>\n",
       "      <td>34.207218</td>\n",
       "    </tr>\n",
       "    <tr>\n",
       "      <th>214</th>\n",
       "      <td>9872.277441</td>\n",
       "      <td>33.375521</td>\n",
       "    </tr>\n",
       "  </tbody>\n",
       "</table>\n",
       "<p>200 rows × 2 columns</p>\n",
       "</div>"
      ],
      "text/plain": [
       "     GDP Per Capita (2015 Constant)  Household estimate (kg/capita/year)\n",
       "0                       2396.036623                           188.797725\n",
       "1                        834.396661                           164.362500\n",
       "2                      17323.866162                           141.690544\n",
       "3                      19545.578561                           131.709160\n",
       "4                      25427.081778                           129.000000\n",
       "..                              ...                                  ...\n",
       "210                    40424.658494                            49.919512\n",
       "211                     5659.204410                            39.776225\n",
       "212                    43346.405194                            39.000000\n",
       "213                    22899.360703                            34.207218\n",
       "214                     9872.277441                            33.375521\n",
       "\n",
       "[200 rows x 2 columns]"
      ]
     },
     "execution_count": 2,
     "metadata": {},
     "output_type": "execute_result"
    }
   ],
   "source": [
    "household_df_with_two_columns = household_df[['GDP Per Capita (2015 Constant)', \"Household estimate (kg/capita/year)\"]].dropna(axis=0)\n",
    "household_df_with_two_columns"
   ]
  },
  {
   "cell_type": "code",
   "execution_count": 3,
   "metadata": {},
   "outputs": [
    {
     "name": "stdout",
     "output_type": "stream",
     "text": [
      "                                     OLS Regression Results                                    \n",
      "===============================================================================================\n",
      "Dep. Variable:     Household estimate (kg/capita/year)   R-squared:                       0.069\n",
      "Model:                                             OLS   Adj. R-squared:                  0.065\n",
      "Method:                                  Least Squares   F-statistic:                     14.78\n",
      "Date:                                 Sun, 11 Dec 2022   Prob (F-statistic):           0.000163\n",
      "Time:                                         23:09:11   Log-Likelihood:                -860.88\n",
      "No. Observations:                                  200   AIC:                             1726.\n",
      "Df Residuals:                                      198   BIC:                             1732.\n",
      "Df Model:                                            1                                         \n",
      "Covariance Type:                             nonrobust                                         \n",
      "==================================================================================================\n",
      "                                     coef    std err          t      P>|t|      [0.025      0.975]\n",
      "--------------------------------------------------------------------------------------------------\n",
      "const                             87.7924      1.550     56.639      0.000      84.736      90.849\n",
      "GDP Per Capita (2015 Constant)    -0.0002   5.83e-05     -3.845      0.000      -0.000      -0.000\n",
      "==============================================================================\n",
      "Omnibus:                       71.565   Durbin-Watson:                   0.138\n",
      "Prob(Omnibus):                  0.000   Jarque-Bera (JB):              404.679\n",
      "Skew:                           1.233   Prob(JB):                     1.33e-88\n",
      "Kurtosis:                       9.518   Cond. No.                     3.24e+04\n",
      "==============================================================================\n",
      "\n",
      "Notes:\n",
      "[1] Standard Errors assume that the covariance matrix of the errors is correctly specified.\n",
      "[2] The condition number is large, 3.24e+04. This might indicate that there are\n",
      "strong multicollinearity or other numerical problems.\n"
     ]
    }
   ],
   "source": [
    "x_vars = 'GDP Per Capita (2015 Constant)'\n",
    "X = household_df_with_two_columns[x_vars]\n",
    "y_var = \"Household estimate (kg/capita/year)\"\n",
    "x1_modified=sm.add_constant(X)\n",
    "model_household = sm.OLS(household_df_with_two_columns[y_var], x1_modified).fit()\n",
    "print(model_household.summary())"
   ]
  },
  {
   "cell_type": "code",
   "execution_count": 4,
   "metadata": {},
   "outputs": [
    {
     "data": {
      "text/html": [
       "<div>\n",
       "<style scoped>\n",
       "    .dataframe tbody tr th:only-of-type {\n",
       "        vertical-align: middle;\n",
       "    }\n",
       "\n",
       "    .dataframe tbody tr th {\n",
       "        vertical-align: top;\n",
       "    }\n",
       "\n",
       "    .dataframe thead th {\n",
       "        text-align: right;\n",
       "    }\n",
       "</style>\n",
       "<table border=\"1\" class=\"dataframe\">\n",
       "  <thead>\n",
       "    <tr style=\"text-align: right;\">\n",
       "      <th></th>\n",
       "      <th>GDP Per Capita (2015 Constant)</th>\n",
       "      <th>Household estimate (kg/capita/year)</th>\n",
       "    </tr>\n",
       "  </thead>\n",
       "  <tbody>\n",
       "    <tr>\n",
       "      <th>0</th>\n",
       "      <td>2396.036623</td>\n",
       "      <td>188.797725</td>\n",
       "    </tr>\n",
       "    <tr>\n",
       "      <th>1</th>\n",
       "      <td>834.396661</td>\n",
       "      <td>164.362500</td>\n",
       "    </tr>\n",
       "    <tr>\n",
       "      <th>2</th>\n",
       "      <td>17323.866162</td>\n",
       "      <td>141.690544</td>\n",
       "    </tr>\n",
       "    <tr>\n",
       "      <th>3</th>\n",
       "      <td>19545.578561</td>\n",
       "      <td>131.709160</td>\n",
       "    </tr>\n",
       "    <tr>\n",
       "      <th>4</th>\n",
       "      <td>25427.081778</td>\n",
       "      <td>129.000000</td>\n",
       "    </tr>\n",
       "    <tr>\n",
       "      <th>...</th>\n",
       "      <td>...</td>\n",
       "      <td>...</td>\n",
       "    </tr>\n",
       "    <tr>\n",
       "      <th>210</th>\n",
       "      <td>40424.658494</td>\n",
       "      <td>49.919512</td>\n",
       "    </tr>\n",
       "    <tr>\n",
       "      <th>211</th>\n",
       "      <td>5659.204410</td>\n",
       "      <td>39.776225</td>\n",
       "    </tr>\n",
       "    <tr>\n",
       "      <th>212</th>\n",
       "      <td>43346.405194</td>\n",
       "      <td>39.000000</td>\n",
       "    </tr>\n",
       "    <tr>\n",
       "      <th>213</th>\n",
       "      <td>22899.360703</td>\n",
       "      <td>34.207218</td>\n",
       "    </tr>\n",
       "    <tr>\n",
       "      <th>214</th>\n",
       "      <td>9872.277441</td>\n",
       "      <td>33.375521</td>\n",
       "    </tr>\n",
       "  </tbody>\n",
       "</table>\n",
       "<p>200 rows × 2 columns</p>\n",
       "</div>"
      ],
      "text/plain": [
       "     GDP Per Capita (2015 Constant)  Household estimate (kg/capita/year)\n",
       "0                       2396.036623                           188.797725\n",
       "1                        834.396661                           164.362500\n",
       "2                      17323.866162                           141.690544\n",
       "3                      19545.578561                           131.709160\n",
       "4                      25427.081778                           129.000000\n",
       "..                              ...                                  ...\n",
       "210                    40424.658494                            49.919512\n",
       "211                     5659.204410                            39.776225\n",
       "212                    43346.405194                            39.000000\n",
       "213                    22899.360703                            34.207218\n",
       "214                     9872.277441                            33.375521\n",
       "\n",
       "[200 rows x 2 columns]"
      ]
     },
     "execution_count": 4,
     "metadata": {},
     "output_type": "execute_result"
    }
   ],
   "source": [
    "household_df_with_two_columns = household_df[['GDP Per Capita (2015 Constant)', \"Household estimate (kg/capita/year)\"]].dropna(axis=0)\n",
    "household_df_with_two_columns"
   ]
  },
  {
   "cell_type": "code",
   "execution_count": 5,
   "metadata": {},
   "outputs": [
    {
     "data": {
      "text/plain": [
       "<seaborn.axisgrid.FacetGrid at 0x7fd0516f8670>"
      ]
     },
     "execution_count": 5,
     "metadata": {},
     "output_type": "execute_result"
    },
    {
     "data": {
      "text/plain": [
       "<Figure size 1500x800 with 0 Axes>"
      ]
     },
     "metadata": {},
     "output_type": "display_data"
    },
    {
     "data": {
      "image/png": "[encoded data removed]",
      "text/plain": [
       "<Figure size 500x500 with 1 Axes>"
      ]
     },
     "metadata": {},
     "output_type": "display_data"
    }
   ],
   "source": [
    "plt.figure(figsize = (15,8))\n",
    "ax = sns.lmplot(x = x_vars,y = y_var,data=household_df_with_two_columns)\n",
    "ax.set_xticklabels(rotation = 30, size = 10)\n",
    "ax.set(xlim = (0, None), title = 'Household Food Waste Estimate')"
   ]
  },
  {
   "cell_type": "code",
   "execution_count": 6,
   "metadata": {},
   "outputs": [
    {
     "name": "stdout",
     "output_type": "stream",
     "text": [
      "Household estimate (kg/capita/year)\n",
      "                                     OLS Regression Results                                    \n",
      "===============================================================================================\n",
      "Dep. Variable:     Household estimate (kg/capita/year)   R-squared:                       0.061\n",
      "Model:                                             OLS   Adj. R-squared:                  0.038\n",
      "Method:                                  Least Squares   F-statistic:                     2.686\n",
      "Date:                                 Sun, 11 Dec 2022   Prob (F-statistic):             0.0495\n",
      "Time:                                         23:09:12   Log-Likelihood:                -564.58\n",
      "No. Observations:                                  128   AIC:                             1137.\n",
      "Df Residuals:                                      124   BIC:                             1149.\n",
      "Df Model:                                            3                                         \n",
      "Covariance Type:                             nonrobust                                         \n",
      "===================================================================================================\n",
      "                                      coef    std err          t      P>|t|      [0.025      0.975]\n",
      "---------------------------------------------------------------------------------------------------\n",
      "const                              95.9255      6.445     14.885      0.000      83.170     108.681\n",
      "Access to Electricity CC           -0.1435      0.071     -2.007      0.047      -0.285      -0.002\n",
      "2020 GDP (2015 Constant)          -26.2446     39.579     -0.663      0.508    -104.582      52.093\n",
      "Tourism Receipts (Current USD$)    -8.3232     33.613     -0.248      0.805     -74.853      58.207\n",
      "==============================================================================\n",
      "Omnibus:                       67.620   Durbin-Watson:                   0.144\n",
      "Prob(Omnibus):                  0.000   Jarque-Bera (JB):              395.825\n",
      "Skew:                           1.727   Prob(JB):                     1.12e-86\n",
      "Kurtosis:                      10.893   Cond. No.                     2.53e+03\n",
      "==============================================================================\n",
      "\n",
      "Notes:\n",
      "[1] Standard Errors assume that the covariance matrix of the errors is correctly specified.\n",
      "[2] The condition number is large, 2.53e+03. This might indicate that there are\n",
      "strong multicollinearity or other numerical problems.\n",
      "                                          0           1\n",
      "const                             83.170048  108.680990\n",
      "Access to Electricity CC          -0.284946   -0.001995\n",
      "2020 GDP (2015 Constant)        -104.581840   52.092625\n",
      "Tourism Receipts (Current USD$)  -74.853232   58.206824\n"
     ]
    }
   ],
   "source": [
    "household_df = household_df.dropna()\n",
    "\n",
    "y_var = \"Household estimate (kg/capita/year)\"\n",
    "\n",
    "x_vars = [\n",
    "    \"Access to Electricity CC\",\n",
    "    \"2020 GDP (2015 Constant)\",\n",
    "    \"Tourism Receipts (Current USD$)\"]\n",
    "# x_vars = [\n",
    "#     \"Access to Electricity CC\",\n",
    "#     \"GDP Per Capita (2015 Constant)\",\n",
    "#     \"Tourism % GDP \"]\n",
    "\n",
    "\n",
    "household_df[\"2020 GDP (2015 Constant)\"] = ((household_df[\"2020 GDP (2015 Constant)\"]-household_df[\"2020 GDP (2015 Constant)\"].mean())/(household_df[\"2020 GDP (2015 Constant)\"].max()-household_df[\"2020 GDP (2015 Constant)\"].min()))\n",
    "household_df[\"Tourism Receipts (Current USD$)\"] = ((household_df[\"Tourism Receipts (Current USD$)\"]-household_df[\"Tourism Receipts (Current USD$)\"].mean())/(household_df[\"Tourism Receipts (Current USD$)\"].max()-household_df[\"Tourism Receipts (Current USD$)\"].min()))\n",
    "\n",
    "X = household_df[x_vars]\n",
    "x_modified=sm.add_constant(X)\n",
    "model_household = sm.OLS(household_df[y_var], x_modified).fit()\n",
    "\n",
    "\n",
    "# # Get the coefficients, p-values, and standard errors & odds ratio\n",
    "# coefs = model_household.params\n",
    "# p_values = model_household.pvalues\n",
    "# std_errors = model_household.bse\n",
    "\n",
    "\n",
    "# # Print the results in a table\n",
    "# table_household = pd.DataFrame({\n",
    "#     'Variable': x_modified.columns,\n",
    "#     'Coefficient': coefs,\n",
    "#     'p-value': p_values,\n",
    "#     'Standard Error': std_errors,\n",
    "    \n",
    "# })\n",
    "\n",
    "\n",
    "## Print the table dataframe\n",
    "# print(table_household)\n",
    "\n",
    "## Write the table dataframe to a CSV file\n",
    "# table_household.to_csv('Household table.csv')\n",
    "\n",
    "## Print Summary Statistics\n",
    "\n",
    "print(y_var)\n",
    "print(model_household.summary())\n",
    "print(model_household.conf_int(alpha=0.05, cols=None))\n",
    "\n",
    "# Calculate the correlation matrix\n",
    "corr_matrix = x_modified.corr()\n",
    "\n",
    "# Print the correlation matrix\n",
    "# print(corr_matrix)\n",
    "\n",
    "\n",
    "##Write the dataframe to a CSV file\n",
    "corr_matrix.to_csv('Household corr_matrix.csv')\n",
    "\n"
   ]
  },
  {
   "cell_type": "code",
   "execution_count": 7,
   "metadata": {},
   "outputs": [
    {
     "data": {
      "text/plain": [
       "Index(['Region', 'M49 code', 'Country', 'Country Code',\n",
       "       'Food service estimate (kg/capita/year)',\n",
       "       'Food service estimate (tonnes/year)', 'Confidence in estimate',\n",
       "       '2020 Population', '2020 Access to Electricity CC',\n",
       "       '2020 GDP (2015 Constant)', 'GDP Per Capita (2015 Constant)',\n",
       "       'Tourism Receipts (Current USD)', 'Tourism % GDP '],\n",
       "      dtype='object')"
      ]
     },
     "execution_count": 7,
     "metadata": {},
     "output_type": "execute_result"
    }
   ],
   "source": [
    "food_service_df.columns"
   ]
  },
  {
   "cell_type": "code",
   "execution_count": 8,
   "metadata": {},
   "outputs": [
    {
     "data": {
      "text/html": [
       "<div>\n",
       "<style scoped>\n",
       "    .dataframe tbody tr th:only-of-type {\n",
       "        vertical-align: middle;\n",
       "    }\n",
       "\n",
       "    .dataframe tbody tr th {\n",
       "        vertical-align: top;\n",
       "    }\n",
       "\n",
       "    .dataframe thead th {\n",
       "        text-align: right;\n",
       "    }\n",
       "</style>\n",
       "<table border=\"1\" class=\"dataframe\">\n",
       "  <thead>\n",
       "    <tr style=\"text-align: right;\">\n",
       "      <th></th>\n",
       "      <th>GDP Per Capita (2015 Constant)</th>\n",
       "      <th>Food service estimate (kg/capita/year)</th>\n",
       "    </tr>\n",
       "  </thead>\n",
       "  <tbody>\n",
       "    <tr>\n",
       "      <th>0</th>\n",
       "      <td>529.741210</td>\n",
       "      <td>27.648075</td>\n",
       "    </tr>\n",
       "    <tr>\n",
       "      <th>1</th>\n",
       "      <td>4410.455165</td>\n",
       "      <td>27.648075</td>\n",
       "    </tr>\n",
       "    <tr>\n",
       "      <th>2</th>\n",
       "      <td>3834.435591</td>\n",
       "      <td>27.648075</td>\n",
       "    </tr>\n",
       "    <tr>\n",
       "      <th>3</th>\n",
       "      <td>11839.010501</td>\n",
       "      <td>27.648075</td>\n",
       "    </tr>\n",
       "    <tr>\n",
       "      <th>4</th>\n",
       "      <td>34588.053724</td>\n",
       "      <td>25.570418</td>\n",
       "    </tr>\n",
       "    <tr>\n",
       "      <th>...</th>\n",
       "      <td>...</td>\n",
       "      <td>...</td>\n",
       "    </tr>\n",
       "    <tr>\n",
       "      <th>209</th>\n",
       "      <td>2661.572764</td>\n",
       "      <td>27.648075</td>\n",
       "    </tr>\n",
       "    <tr>\n",
       "      <th>211</th>\n",
       "      <td>3316.002658</td>\n",
       "      <td>27.648075</td>\n",
       "    </tr>\n",
       "    <tr>\n",
       "      <th>212</th>\n",
       "      <td>1144.416671</td>\n",
       "      <td>27.648075</td>\n",
       "    </tr>\n",
       "    <tr>\n",
       "      <th>213</th>\n",
       "      <td>1273.879558</td>\n",
       "      <td>27.648075</td>\n",
       "    </tr>\n",
       "    <tr>\n",
       "      <th>214</th>\n",
       "      <td>1307.013630</td>\n",
       "      <td>27.648075</td>\n",
       "    </tr>\n",
       "  </tbody>\n",
       "</table>\n",
       "<p>200 rows × 2 columns</p>\n",
       "</div>"
      ],
      "text/plain": [
       "     GDP Per Capita (2015 Constant)  Food service estimate (kg/capita/year)\n",
       "0                        529.741210                               27.648075\n",
       "1                       4410.455165                               27.648075\n",
       "2                       3834.435591                               27.648075\n",
       "3                      11839.010501                               27.648075\n",
       "4                      34588.053724                               25.570418\n",
       "..                              ...                                     ...\n",
       "209                     2661.572764                               27.648075\n",
       "211                     3316.002658                               27.648075\n",
       "212                     1144.416671                               27.648075\n",
       "213                     1273.879558                               27.648075\n",
       "214                     1307.013630                               27.648075\n",
       "\n",
       "[200 rows x 2 columns]"
      ]
     },
     "execution_count": 8,
     "metadata": {},
     "output_type": "execute_result"
    }
   ],
   "source": [
    "food_service_df_with_two_columns = food_service_df[['GDP Per Capita (2015 Constant)', \"Food service estimate (kg/capita/year)\"]].dropna(axis=0)\n",
    "food_service_df_with_two_columns"
   ]
  },
  {
   "cell_type": "code",
   "execution_count": 9,
   "metadata": {},
   "outputs": [
    {
     "name": "stdout",
     "output_type": "stream",
     "text": [
      "                                      OLS Regression Results                                      \n",
      "==================================================================================================\n",
      "Dep. Variable:     Food service estimate (kg/capita/year)   R-squared:                       0.002\n",
      "Model:                                                OLS   Adj. R-squared:                 -0.003\n",
      "Method:                                     Least Squares   F-statistic:                    0.4099\n",
      "Date:                                    Sun, 11 Dec 2022   Prob (F-statistic):              0.523\n",
      "Time:                                            23:09:12   Log-Likelihood:                -663.86\n",
      "No. Observations:                                     200   AIC:                             1332.\n",
      "Df Residuals:                                         198   BIC:                             1338.\n",
      "Df Model:                                               1                                         \n",
      "Covariance Type:                                nonrobust                                         \n",
      "==================================================================================================\n",
      "                                     coef    std err          t      P>|t|      [0.025      0.975]\n",
      "--------------------------------------------------------------------------------------------------\n",
      "const                             27.2985      0.579     47.166      0.000      26.157      28.440\n",
      "GDP Per Capita (2015 Constant) -1.394e-05   2.18e-05     -0.640      0.523   -5.69e-05     2.9e-05\n",
      "==============================================================================\n",
      "Omnibus:                      245.068   Durbin-Watson:                   1.991\n",
      "Prob(Omnibus):                  0.000   Jarque-Bera (JB):            16949.435\n",
      "Skew:                           4.873   Prob(JB):                         0.00\n",
      "Kurtosis:                      47.033   Cond. No.                     3.24e+04\n",
      "==============================================================================\n",
      "\n",
      "Notes:\n",
      "[1] Standard Errors assume that the covariance matrix of the errors is correctly specified.\n",
      "[2] The condition number is large, 3.24e+04. This might indicate that there are\n",
      "strong multicollinearity or other numerical problems.\n"
     ]
    }
   ],
   "source": [
    "x_vars = 'GDP Per Capita (2015 Constant)'\n",
    "X = food_service_df_with_two_columns[x_vars]\n",
    "y_var = \"Food service estimate (kg/capita/year)\"\n",
    "x1_modified=sm.add_constant(X)\n",
    "model_household = sm.OLS(food_service_df_with_two_columns[y_var], x1_modified).fit()\n",
    "print(model_household.summary())"
   ]
  },
  {
   "cell_type": "code",
   "execution_count": 10,
   "metadata": {},
   "outputs": [
    {
     "data": {
      "text/plain": [
       "<seaborn.axisgrid.FacetGrid at 0x7fd0519c6700>"
      ]
     },
     "execution_count": 10,
     "metadata": {},
     "output_type": "execute_result"
    },
    {
     "data": {
      "text/plain": [
       "<Figure size 1500x800 with 0 Axes>"
      ]
     },
     "metadata": {},
     "output_type": "display_data"
    },
    {
     "data": {
      "image/png": "[encoded data removed]",
      "text/plain": [
       "<Figure size 500x500 with 1 Axes>"
      ]
     },
     "metadata": {},
     "output_type": "display_data"
    }
   ],
   "source": [
    "plt.figure(figsize = (15,8))\n",
    "ax = sns.lmplot(x = x_vars,y = y_var,data=food_service_df_with_two_columns)\n",
    "ax.set_xticklabels(rotation = 30, size = 10)\n",
    "ax.set(xlim = (0, None), title = 'Food Service Food Waste Estimate')\n"
   ]
  },
  {
   "cell_type": "code",
   "execution_count": 11,
   "metadata": {},
   "outputs": [
    {
     "data": {
      "text/plain": [
       "Int64Index([  0,   1,   2,   5,   6,   7,   8,   9,  10,  11,\n",
       "            ...\n",
       "            200, 201, 202, 205, 206, 207, 208, 209, 211, 214],\n",
       "           dtype='int64', length=128)"
      ]
     },
     "execution_count": 11,
     "metadata": {},
     "output_type": "execute_result"
    }
   ],
   "source": [
    "food_service_df = food_service_df.dropna()\n",
    "food_service_df.index"
   ]
  },
  {
   "cell_type": "code",
   "execution_count": 12,
   "metadata": {},
   "outputs": [
    {
     "name": "stdout",
     "output_type": "stream",
     "text": [
      "Food service estimate (kg/capita/year)\n",
      "                                        0          1\n",
      "const                           22.991961  32.496743\n",
      "2020 Access to Electricity CC   -0.059337   0.046976\n",
      "2020 GDP (2015 Constant)         6.293084  65.840878\n",
      "Tourism Receipts (Current USD) -29.995066  20.444388\n",
      "Food service estimate (kg/capita/year)\n",
      "                                      OLS Regression Results                                      \n",
      "==================================================================================================\n",
      "Dep. Variable:     Food service estimate (kg/capita/year)   R-squared:                       0.127\n",
      "Model:                                                OLS   Adj. R-squared:                  0.106\n",
      "Method:                                     Least Squares   F-statistic:                     6.008\n",
      "Date:                                    Sun, 11 Dec 2022   Prob (F-statistic):           0.000742\n",
      "Time:                                            23:09:12   Log-Likelihood:                -439.94\n",
      "No. Observations:                                     128   AIC:                             887.9\n",
      "Df Residuals:                                         124   BIC:                             899.3\n",
      "Df Model:                                               3                                         \n",
      "Covariance Type:                                nonrobust                                         \n",
      "==================================================================================================\n",
      "                                     coef    std err          t      P>|t|      [0.025      0.975]\n",
      "--------------------------------------------------------------------------------------------------\n",
      "const                             27.7444      2.401     11.555      0.000      22.992      32.497\n",
      "2020 Access to Electricity CC     -0.0062      0.027     -0.230      0.818      -0.059       0.047\n",
      "2020 GDP (2015 Constant)          36.0670     15.043      2.398      0.018       6.293      65.841\n",
      "Tourism Receipts (Current USD)    -4.7753     12.742     -0.375      0.708     -29.995      20.444\n",
      "==============================================================================\n",
      "Omnibus:                      157.002   Durbin-Watson:                   1.923\n",
      "Prob(Omnibus):                  0.000   Jarque-Bera (JB):             8181.461\n",
      "Skew:                           4.186   Prob(JB):                         0.00\n",
      "Kurtosis:                      41.261   Cond. No.                     2.53e+03\n",
      "==============================================================================\n",
      "\n",
      "Notes:\n",
      "[1] Standard Errors assume that the covariance matrix of the errors is correctly specified.\n",
      "[2] The condition number is large, 2.53e+03. This might indicate that there are\n",
      "strong multicollinearity or other numerical problems.\n"
     ]
    }
   ],
   "source": [
    "y_var = \"Food service estimate (kg/capita/year)\"\n",
    "\n",
    "print(y_var)\n",
    "\n",
    "x_vars = [\n",
    "    \"2020 Access to Electricity CC\",\n",
    "    \"2020 GDP (2015 Constant)\",\n",
    "    \"Tourism Receipts (Current USD)\"]\n",
    "# x_vars = [\n",
    "#     \"2020 Access to Electricity CC\",\n",
    "#     \"GDP Per Capita (2015 Constant)\",\n",
    "#     \"Tourism % GDP \"]\n",
    "\n",
    "# Use below if you need to normalize\n",
    "food_service_df[\"2020 GDP (2015 Constant)\"] = ((food_service_df[\"2020 GDP (2015 Constant)\"]-food_service_df[\"2020 GDP (2015 Constant)\"].mean())/(food_service_df[\"2020 GDP (2015 Constant)\"].max()-food_service_df[\"2020 GDP (2015 Constant)\"].min()))\n",
    "food_service_df[\"Tourism Receipts (Current USD)\"] = ((food_service_df[\"Tourism Receipts (Current USD)\"]-food_service_df[\"Tourism Receipts (Current USD)\"].mean())/(food_service_df[\"Tourism Receipts (Current USD)\"].max()-food_service_df[\"Tourism Receipts (Current USD)\"].min()))\n",
    "\n",
    "\n",
    "X = food_service_df[x_vars]\n",
    "x_modified=sm.add_constant(X)\n",
    "model_food_service = sm.OLS(food_service_df[y_var],x_modified).fit()\n",
    "\n",
    "# Get the coefficients, p-values, and standard errors\n",
    "coefs = model_food_service.params\n",
    "p_values = model_food_service.pvalues\n",
    "std_errors = model_food_service.bse\n",
    "\n",
    "# Print the results in a table\n",
    "table_food_service = pd.DataFrame({\n",
    "    'Variable': x_modified.columns,\n",
    "    'Coefficient': coefs,\n",
    "    'p-value': p_values,\n",
    "    'Standard Error': std_errors\n",
    "})\n",
    "\n",
    "# # Print the table\n",
    "# print(table_food_service)\n",
    "# # Write the dataframe to a CSV file\n",
    "# table_food_service.to_csv('Table Food Service.csv')\n",
    "\n",
    "##Print the confidence interval\n",
    "print(model_food_service.conf_int(alpha=0.05, cols=None))\n",
    "\n",
    "##Print Food Service Summary Statistics\n",
    "print(y_var)\n",
    "print(model_food_service.summary())\n",
    "\n",
    "# Calculate the correlation matrix\n",
    "corr_matrix = x_modified.corr()\n",
    "\n",
    "# # Print the correlation matrix\n",
    "# print(corr_matrix)\n",
    "\n",
    "##Write the dataframe to a CSV file\n",
    "corr_matrix.to_csv('food service corr_matrix.csv')\n",
    "\n",
    "\n",
    "\n",
    "\n",
    "\n"
   ]
  },
  {
   "cell_type": "code",
   "execution_count": 13,
   "metadata": {},
   "outputs": [
    {
     "data": {
      "text/plain": [
       "Index(['Region', 'M49 code', 'Country Code', 'Country',\n",
       "       'Retail estimate (kg/capita/year)', 'Retail estimate (tonnes/year)',\n",
       "       'Confidence in estimate', '2020 Population',\n",
       "       '2020 Access to Electricity CC', '2020 GDP (2015 Constant)',\n",
       "       'GDP Per Capita (2015 Constant)', 'Tourism Receipts (Current USD$)',\n",
       "       'Tourism % GDP '],\n",
       "      dtype='object')"
      ]
     },
     "execution_count": 13,
     "metadata": {},
     "output_type": "execute_result"
    }
   ],
   "source": [
    "retail_df.columns"
   ]
  },
  {
   "cell_type": "code",
   "execution_count": 14,
   "metadata": {},
   "outputs": [
    {
     "data": {
      "text/html": [
       "<div>\n",
       "<style scoped>\n",
       "    .dataframe tbody tr th:only-of-type {\n",
       "        vertical-align: middle;\n",
       "    }\n",
       "\n",
       "    .dataframe tbody tr th {\n",
       "        vertical-align: top;\n",
       "    }\n",
       "\n",
       "    .dataframe thead th {\n",
       "        text-align: right;\n",
       "    }\n",
       "</style>\n",
       "<table border=\"1\" class=\"dataframe\">\n",
       "  <thead>\n",
       "    <tr style=\"text-align: right;\">\n",
       "      <th></th>\n",
       "      <th>GDP Per Capita (2015 Constant)</th>\n",
       "      <th>Retail estimate (kg/capita/year)</th>\n",
       "    </tr>\n",
       "  </thead>\n",
       "  <tbody>\n",
       "    <tr>\n",
       "      <th>0</th>\n",
       "      <td>529.741210</td>\n",
       "      <td>15.640229</td>\n",
       "    </tr>\n",
       "    <tr>\n",
       "      <th>1</th>\n",
       "      <td>4410.455165</td>\n",
       "      <td>15.640229</td>\n",
       "    </tr>\n",
       "    <tr>\n",
       "      <th>2</th>\n",
       "      <td>3834.435591</td>\n",
       "      <td>15.640229</td>\n",
       "    </tr>\n",
       "    <tr>\n",
       "      <th>3</th>\n",
       "      <td>11839.010501</td>\n",
       "      <td>15.640229</td>\n",
       "    </tr>\n",
       "    <tr>\n",
       "      <th>4</th>\n",
       "      <td>34588.053724</td>\n",
       "      <td>12.811309</td>\n",
       "    </tr>\n",
       "    <tr>\n",
       "      <th>...</th>\n",
       "      <td>...</td>\n",
       "      <td>...</td>\n",
       "    </tr>\n",
       "    <tr>\n",
       "      <th>209</th>\n",
       "      <td>2661.572764</td>\n",
       "      <td>15.640229</td>\n",
       "    </tr>\n",
       "    <tr>\n",
       "      <th>211</th>\n",
       "      <td>3316.002658</td>\n",
       "      <td>15.640229</td>\n",
       "    </tr>\n",
       "    <tr>\n",
       "      <th>212</th>\n",
       "      <td>1144.416671</td>\n",
       "      <td>15.640229</td>\n",
       "    </tr>\n",
       "    <tr>\n",
       "      <th>213</th>\n",
       "      <td>1273.879558</td>\n",
       "      <td>15.640229</td>\n",
       "    </tr>\n",
       "    <tr>\n",
       "      <th>214</th>\n",
       "      <td>1307.013630</td>\n",
       "      <td>15.640229</td>\n",
       "    </tr>\n",
       "  </tbody>\n",
       "</table>\n",
       "<p>200 rows × 2 columns</p>\n",
       "</div>"
      ],
      "text/plain": [
       "     GDP Per Capita (2015 Constant)  Retail estimate (kg/capita/year)\n",
       "0                        529.741210                         15.640229\n",
       "1                       4410.455165                         15.640229\n",
       "2                       3834.435591                         15.640229\n",
       "3                      11839.010501                         15.640229\n",
       "4                      34588.053724                         12.811309\n",
       "..                              ...                               ...\n",
       "209                     2661.572764                         15.640229\n",
       "211                     3316.002658                         15.640229\n",
       "212                     1144.416671                         15.640229\n",
       "213                     1273.879558                         15.640229\n",
       "214                     1307.013630                         15.640229\n",
       "\n",
       "[200 rows x 2 columns]"
      ]
     },
     "execution_count": 14,
     "metadata": {},
     "output_type": "execute_result"
    }
   ],
   "source": [
    "retail_df_with_two_columns = retail_df[['GDP Per Capita (2015 Constant)', \"Retail estimate (kg/capita/year)\"]].dropna(axis=0)\n",
    "retail_df_with_two_columns"
   ]
  },
  {
   "cell_type": "code",
   "execution_count": 15,
   "metadata": {},
   "outputs": [
    {
     "name": "stdout",
     "output_type": "stream",
     "text": [
      "                                   OLS Regression Results                                   \n",
      "============================================================================================\n",
      "Dep. Variable:     Retail estimate (kg/capita/year)   R-squared:                       0.027\n",
      "Model:                                          OLS   Adj. R-squared:                  0.022\n",
      "Method:                               Least Squares   F-statistic:                     5.529\n",
      "Date:                              Sun, 11 Dec 2022   Prob (F-statistic):             0.0197\n",
      "Time:                                      23:09:12   Log-Likelihood:                -636.76\n",
      "No. Observations:                               200   AIC:                             1278.\n",
      "Df Residuals:                                   198   BIC:                             1284.\n",
      "Df Model:                                         1                                         \n",
      "Covariance Type:                          nonrobust                                         \n",
      "==================================================================================================\n",
      "                                     coef    std err          t      P>|t|      [0.025      0.975]\n",
      "--------------------------------------------------------------------------------------------------\n",
      "const                             15.5847      0.506     30.807      0.000      14.587      16.582\n",
      "GDP Per Capita (2015 Constant) -4.473e-05    1.9e-05     -2.351      0.020   -8.22e-05   -7.22e-06\n",
      "==============================================================================\n",
      "Omnibus:                      325.000   Durbin-Watson:                   2.088\n",
      "Prob(Omnibus):                  0.000   Jarque-Bera (JB):            51369.520\n",
      "Skew:                           7.811   Prob(JB):                         0.00\n",
      "Kurtosis:                      79.943   Cond. No.                     3.24e+04\n",
      "==============================================================================\n",
      "\n",
      "Notes:\n",
      "[1] Standard Errors assume that the covariance matrix of the errors is correctly specified.\n",
      "[2] The condition number is large, 3.24e+04. This might indicate that there are\n",
      "strong multicollinearity or other numerical problems.\n"
     ]
    }
   ],
   "source": [
    "x_vars = 'GDP Per Capita (2015 Constant)'\n",
    "X = retail_df_with_two_columns[x_vars]\n",
    "y_var = \"Retail estimate (kg/capita/year)\"\n",
    "x1_modified=sm.add_constant(X)\n",
    "model_household = sm.OLS(retail_df_with_two_columns[y_var], x1_modified).fit()\n",
    "print(model_household.summary())"
   ]
  },
  {
   "cell_type": "code",
   "execution_count": 16,
   "metadata": {},
   "outputs": [
    {
     "data": {
      "text/plain": [
       "<seaborn.axisgrid.FacetGrid at 0x7fd05c51a0d0>"
      ]
     },
     "execution_count": 16,
     "metadata": {},
     "output_type": "execute_result"
    },
    {
     "data": {
      "text/plain": [
       "<Figure size 1500x800 with 0 Axes>"
      ]
     },
     "metadata": {},
     "output_type": "display_data"
    },
    {
     "data": {
      "image/png": "[encoded data removed]",
      "text/plain": [
       "<Figure size 500x500 with 1 Axes>"
      ]
     },
     "metadata": {},
     "output_type": "display_data"
    }
   ],
   "source": [
    "plt.figure(figsize = (15,8))\n",
    "ax = sns.lmplot(x = x_vars,y = y_var,data=retail_df_with_two_columns)\n",
    "ax.set_xticklabels(rotation = 30, size = 10)\n",
    "ax.set(xlim = (0, None), title = 'Retail Food Waste Estimate')"
   ]
  },
  {
   "cell_type": "code",
   "execution_count": 17,
   "metadata": {},
   "outputs": [
    {
     "data": {
      "text/plain": [
       "Index(['Region', 'M49 code', 'Country Code', 'Country',\n",
       "       'Retail estimate (kg/capita/year)', 'Retail estimate (tonnes/year)',\n",
       "       'Confidence in estimate', '2020 Population',\n",
       "       '2020 Access to Electricity CC', '2020 GDP (2015 Constant)',\n",
       "       'GDP Per Capita (2015 Constant)', 'Tourism Receipts (Current USD$)',\n",
       "       'Tourism % GDP '],\n",
       "      dtype='object')"
      ]
     },
     "execution_count": 17,
     "metadata": {},
     "output_type": "execute_result"
    }
   ],
   "source": [
    "retail_df = retail_df.dropna()\n",
    "retail_df.columns"
   ]
  },
  {
   "cell_type": "code",
   "execution_count": 18,
   "metadata": {},
   "outputs": [
    {
     "name": "stdout",
     "output_type": "stream",
     "text": [
      "Retail estimate (kg/capita/year)\n",
      "                                   OLS Regression Results                                   \n",
      "============================================================================================\n",
      "Dep. Variable:     Retail estimate (kg/capita/year)   R-squared:                       0.004\n",
      "Model:                                          OLS   Adj. R-squared:                 -0.021\n",
      "Method:                               Least Squares   F-statistic:                    0.1457\n",
      "Date:                              Sun, 11 Dec 2022   Prob (F-statistic):              0.932\n",
      "Time:                                      23:09:12   Log-Likelihood:                -430.68\n",
      "No. Observations:                               128   AIC:                             869.4\n",
      "Df Residuals:                                   124   BIC:                             880.8\n",
      "Df Model:                                         3                                         \n",
      "Covariance Type:                          nonrobust                                         \n",
      "===================================================================================================\n",
      "                                      coef    std err          t      P>|t|      [0.025      0.975]\n",
      "---------------------------------------------------------------------------------------------------\n",
      "const                              15.8662      3.405      4.660      0.000       9.127      22.605\n",
      "2020 Access to Electricity CC      -0.0074      0.036     -0.203      0.840      -0.079       0.065\n",
      "2020 GDP (2015 Constant)            6.9174     14.000      0.494      0.622     -20.792      34.626\n",
      "Tourism Receipts (Current USD$)    -6.9513     12.004     -0.579      0.564     -30.710      16.808\n",
      "==============================================================================\n",
      "Omnibus:                      210.305   Durbin-Watson:                   2.104\n",
      "Prob(Omnibus):                  0.000   Jarque-Bera (JB):            17966.784\n",
      "Skew:                           6.900   Prob(JB):                         0.00\n",
      "Kurtosis:                      59.377   Cond. No.                     2.66e+03\n",
      "==============================================================================\n",
      "\n",
      "Notes:\n",
      "[1] Standard Errors assume that the covariance matrix of the errors is correctly specified.\n",
      "[2] The condition number is large, 2.66e+03. This might indicate that there are\n",
      "strong multicollinearity or other numerical problems.\n",
      "                                        0          1\n",
      "const                           14.587077  16.582289\n",
      "GDP Per Capita (2015 Constant)  -0.000082  -0.000007\n"
     ]
    }
   ],
   "source": [
    "y_var = \"Retail estimate (kg/capita/year)\"\n",
    "\n",
    "x_vars = [\n",
    "    \"2020 Access to Electricity CC\",\n",
    "    \"2020 GDP (2015 Constant)\",\n",
    "    \"Tourism Receipts (Current USD$)\"]\n",
    "# x_vars = [\n",
    "#     \"2020 Access to Electricity CC\",\n",
    "#     \"GDP Per Capita (2015 Constant)\",\n",
    "#     \"Tourism % GDP \"]\n",
    "\n",
    "#Use below if you need to normalize\n",
    "retail_df[\"2020 GDP (2015 Constant)\"] = ((retail_df[\"2020 GDP (2015 Constant)\"]-retail_df[\"2020 GDP (2015 Constant)\"].mean())/(retail_df[\"2020 GDP (2015 Constant)\"].max()-retail_df[\"2020 GDP (2015 Constant)\"].min()))\n",
    "retail_df[\"Tourism Receipts (Current USD$)\"] = ((retail_df[\"Tourism Receipts (Current USD$)\"]-retail_df[\"Tourism Receipts (Current USD$)\"].mean())/(retail_df[\"Tourism Receipts (Current USD$)\"].max()-retail_df[\"Tourism Receipts (Current USD$)\"].min()))\n",
    "\n",
    "X = retail_df[x_vars]\n",
    "x_modified=sm.add_constant(X)\n",
    "\n",
    "model_retail = sm.OLS(retail_df[y_var],x_modified).fit()\n",
    "\n",
    "#This is for the summary table \n",
    "# Get the coefficients, p-values, and standard errors\n",
    "coefs = model_retail.params\n",
    "p_values = model_retail.pvalues\n",
    "std_errors = model_retail.bse\n",
    "\n",
    "# Print the results in a table\n",
    "table_retail = pd.DataFrame({\n",
    "    'Variable': x_modified.columns,\n",
    "    'Coefficient': coefs,\n",
    "    'p-value': p_values,\n",
    "    'Standard Error': std_errors\n",
    "})\n",
    "\n",
    "# # Print the dataframe\n",
    "# print(table_retail)\n",
    "\n",
    "# # Write the dataframe to a CSV file\n",
    "# table_retail.to_csv('Table Retail.csv')\n",
    "\n",
    "print(y_var)\n",
    "print(model_retail.summary())\n",
    "\n",
    "print(model_household.conf_int(alpha=0.05, cols=None))\n",
    "# household_df.head()\n",
    "\n",
    "# Calculate the correlation matrix\n",
    "corr_matrix = x_modified.corr()\n",
    "\n",
    "# Print the correlation matrix\n",
    "# print(corr_matrix)\n",
    "\n",
    "##Write the dataframe to a CSV file\n",
    "corr_matrix.to_csv('retail corr_matrix.csv')\n",
    "\n"
   ]
  },
  {
   "cell_type": "code",
   "execution_count": 19,
   "metadata": {
    "jupyter": {
     "source_hidden": true
    },
    "tags": []
   },
   "outputs": [],
   "source": [
    "# #This cell is being used for attempting to make more informative plots\n",
    "\n",
    "# # Define the data\n",
    "# access_to_electricity = [\"2020 Access to Electricity CC\"]\n",
    "# gdp_per_capita = [\"GDP Per Capita (2015 Constant)\"]\n",
    "# tourism_percentage_gdp = [\"Tourism % GDP\"]\n",
    "# retail_estimates = [\"const\"]\n",
    "\n",
    "# # Define the actual observations\n",
    "# observation_access_to_electricity = [\"2020 Access to Electricity CC\"]\n",
    "# observation_gdp_per_capita = [\"GDP Per Capita (2015 Constant)\"]\n",
    "# observation_retail_estimates = [\"const\"]\n",
    "\n",
    "# # Create the scatter plot with two y-axes\n",
    "# fig, ax1 = plt.subplots()\n",
    "# ax2 = ax1.twinx()\n",
    "\n",
    "# # Plot the data for the first independent variable on the first y-axis\n",
    "# ax1.scatter(access_to_electricity, retail_estimates, label=\"Access to Electricity\")\n",
    "\n",
    "# # Plot the data for the second independent variable on the second y-axis\n",
    "# ax2.scatter(gdp_per_capita, retail_estimates, label=\"GDP Per Capita\")\n",
    "\n",
    "# # Plot the actual observations on the first y-axis\n",
    "# ax1.scatter(observation_access_to_electricity, observation_retail_estimates, label=\"Actual Observations\", color=\"red\")\n",
    "\n",
    "# # Add a legend and label the axes\n",
    "# ax1.legend(loc=1)\n",
    "# ax2.legend(loc=2)\n",
    "# ax1.set_xlabel(\"Access to Electricity and Tourism % GDP\")\n",
    "# ax1.set_ylabel(\"Retail Estimate (kg/capita/year)\")\n",
    "# ax2.set_ylabel(\"GDP Per Capita\")\n",
    "\n",
    "# # Show the plot\n",
    "# plt.show()"
   ]
  },
  {
   "cell_type": "code",
   "execution_count": null,
   "metadata": {
    "tags": []
   },
   "outputs": [],
   "source": []
  },
  {
   "cell_type": "code",
   "execution_count": null,
   "metadata": {},
   "outputs": [],
   "source": []
  }
 ],
 "metadata": {
  "kernelspec": {
   "display_name": "Python 3 (ipykernel)",
   "language": "python",
   "name": "python3"
  },
  "language_info": {
   "codemirror_mode": {
    "name": "ipython",
    "version": 3
   },
   "file_extension": ".py",
   "mimetype": "text/x-python",
   "name": "python",
   "nbconvert_exporter": "python",
   "pygments_lexer": "ipython3",
   "version": "3.9.13"
  },
  "vscode": {
   "interpreter": {
    "hash": "defcfaaaa31debe8f1285792e705e7056fb72f7029ba840a942d4bd2872fa032"
   }
  }
 },
 "nbformat": 4,
 "nbformat_minor": 4
}
